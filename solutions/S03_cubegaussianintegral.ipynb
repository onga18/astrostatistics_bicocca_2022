{
 "cells": [
  {
   "cell_type": "markdown",
   "id": "3f999223",
   "metadata": {},
   "source": [
    "### That nasty integral"
   ]
  },
  {
   "cell_type": "markdown",
   "id": "ac510633",
   "metadata": {},
   "source": [
    "I need to solve this integral:\n",
    "\n",
    "$$I= \\int_0^\\infty x^3 \\exp\\left(-\\frac{x^2}{2\\sigma^2}\\right) \\,dx = 2\\sigma^4 .$$\n",
    "\n",
    "The gaussian pdf is with mean=0 is\n",
    "\n",
    "$$\\frac{1}{\\sigma\\sqrt{2\\pi}} \\exp\\left(-\\frac{x^2}{2\\sigma^2}\\right)$$\n",
    "\n",
    "which is normalized between $-\\infty$ and $+\\infty$. Here we want a half Gaussian\n",
    "\n",
    "$$p(x) = \\frac{2}{\\sigma\\sqrt{2\\pi}} \\exp\\left(-\\frac{x^2}{2\\sigma^2}\\right)$$\n",
    "\n",
    "which correctly gives $\\int_0^\\infty p(x) =1$. My integral then becomes\n",
    "\n",
    "$$I = \\sigma\\sqrt\\frac{\\pi}{2} \\int_0^\\infty x^3 p(x) dx $$\n",
    "\n"
   ]
  },
  {
   "cell_type": "code",
   "execution_count": 1,
   "id": "48d0e072",
   "metadata": {},
   "outputs": [],
   "source": [
    "import numpy as np\n",
    "import scipy.stats\n",
    "import pylab as plt\n",
    "from tqdm.notebook import tqdm"
   ]
  },
  {
   "cell_type": "markdown",
   "id": "9140f12a",
   "metadata": {},
   "source": [
    "First generate from a Gaussian"
   ]
  },
  {
   "cell_type": "code",
   "execution_count": 2,
   "id": "f6865388",
   "metadata": {},
   "outputs": [
    {
     "data": {
      "text/plain": [
       "[<matplotlib.lines.Line2D at 0x120a005b0>]"
      ]
     },
     "execution_count": 2,
     "metadata": {},
     "output_type": "execute_result"
    },
    {
     "data": {
      "image/png": "[encoded data removed]",
      "text/plain": [
       "<Figure size 432x288 with 1 Axes>"
      ]
     },
     "metadata": {
      "needs_background": "light"
     },
     "output_type": "display_data"
    }
   ],
   "source": [
    "sigma=2\n",
    "N=1000\n",
    "\n",
    "\n",
    "gauss = scipy.stats.norm(loc=0,scale=sigma)\n",
    "\n",
    "plt.hist(gauss.rvs(N),density=True,bins=30);\n",
    "plt.plot(np.linspace(-3*sigma,3*sigma,100), gauss.pdf(np.linspace(-3*sigma,3*sigma,100)))"
   ]
  },
  {
   "cell_type": "markdown",
   "id": "23a4f550",
   "metadata": {},
   "source": [
    "The Gaussian distribution is symmetric. To generate points from a half-gaussian it's enough to take the abs. Note I have to add a factor of 2 to the pdf"
   ]
  },
  {
   "cell_type": "code",
   "execution_count": 3,
   "id": "40952002",
   "metadata": {},
   "outputs": [
    {
     "data": {
      "text/plain": [
       "[<matplotlib.lines.Line2D at 0x120b3dd30>]"
      ]
     },
     "execution_count": 3,
     "metadata": {},
     "output_type": "execute_result"
    },
    {
     "data": {
      "image/png": "[encoded data removed]",
      "text/plain": [
       "<Figure size 432x288 with 1 Axes>"
      ]
     },
     "metadata": {
      "needs_background": "light"
     },
     "output_type": "display_data"
    }
   ],
   "source": [
    "plt.hist(np.abs(gauss.rvs(N)),density=True,bins=30);\n",
    "plt.plot(np.linspace(0,3*sigma,100), 2*gauss.pdf(np.linspace(0,3*sigma,100)))"
   ]
  },
  {
   "cell_type": "markdown",
   "id": "f98409ff",
   "metadata": {},
   "source": [
    "Ok now I can do the Monte Carlo magic"
   ]
  },
  {
   "cell_type": "code",
   "execution_count": 4,
   "id": "59952424",
   "metadata": {},
   "outputs": [
    {
     "name": "stdout",
     "output_type": "stream",
     "text": [
      "29.540273902867135 32 0.07686644053540204\n"
     ]
    }
   ],
   "source": [
    "samples = np.abs(gauss.rvs(N))\n",
    "I = sigma*(np.pi/2)**0.5 * np.mean(samples**3)\n",
    "knownresult= 2*sigma**4 \n",
    "\n",
    "print(I,knownresult, np.abs(I-knownresult)/knownresult)\n"
   ]
  },
  {
   "cell_type": "markdown",
   "id": "fc4fd563",
   "metadata": {},
   "source": [
    "Ok it works. Put this into a function now\n",
    "\n",
    "\n"
   ]
  },
  {
   "cell_type": "code",
   "execution_count": 5,
   "id": "05971c75",
   "metadata": {},
   "outputs": [],
   "source": [
    "def integral(sigma,N):\n",
    "    gauss = scipy.stats.norm(loc=0,scale=sigma)\n",
    "    samples = np.abs(gauss.rvs(N))\n",
    "    norm = sigma*(np.pi/2)**0.5\n",
    "    return norm * np.mean(samples**3) #, norm * scipy.stats.tstd(samples**3) / N**0.5\n",
    "\n",
    "def knownresult(sigma):\n",
    "    return 2*sigma**4  "
   ]
  },
  {
   "cell_type": "code",
   "execution_count": 6,
   "id": "4c616385",
   "metadata": {},
   "outputs": [],
   "source": [
    "sigma = 0.45\n",
    "Nvals=np.unique(np.logspace(0,6,100,dtype=int))"
   ]
  },
  {
   "cell_type": "code",
   "execution_count": 7,
   "id": "eb207d1a",
   "metadata": {},
   "outputs": [
    {
     "data": {
      "text/plain": [
       "array([      1,       2,       3,       4,       5,       6,       7,\n",
       "             8,       9,      10,      12,      14,      16,      18,\n",
       "            21,      24,      28,      32,      37,      43,      49,\n",
       "            57,      65,      75,      86,     100,     114,     132,\n",
       "           151,     174,     200,     231,     265,     305,     351,\n",
       "           403,     464,     533,     613,     705,     811,     932,\n",
       "          1072,    1232,    1417,    1629,    1873,    2154,    2477,\n",
       "          2848,    3274,    3764,    4328,    4977,    5722,    6579,\n",
       "          7564,    8697,   10000,   11497,   13219,   15199,   17475,\n",
       "         20092,   23101,   26560,   30538,   35111,   40370,   46415,\n",
       "         53366,   61359,   70548,   81113,   93260,  107226,  123284,\n",
       "        141747,  162975,  187381,  215443,  247707,  284803,  327454,\n",
       "        376493,  432876,  497702,  572236,  657933,  756463,  869749,\n",
       "       1000000])"
      ]
     },
     "execution_count": 7,
     "metadata": {},
     "output_type": "execute_result"
    }
   ],
   "source": [
    "Nvals"
   ]
  },
  {
   "cell_type": "code",
   "execution_count": 8,
   "id": "830243c8",
   "metadata": {},
   "outputs": [
    {
     "data": {
      "application/vnd.jupyter.widget-view+json": {
       "model_id": "604a34c2fd194f3bbaef1d982542a438",
       "version_major": 2,
       "version_minor": 0
      },
      "text/plain": [
       "  0%|          | 0/92 [00:00<?, ?it/s]"
      ]
     },
     "metadata": {},
     "output_type": "display_data"
    }
   ],
   "source": [
    "results = np.array([integral(sigma,N) for N in tqdm(Nvals)])\n"
   ]
  },
  {
   "cell_type": "code",
   "execution_count": 9,
   "id": "43fba79f",
   "metadata": {},
   "outputs": [
    {
     "data": {
      "image/png": "[encoded data removed]",
      "text/plain": [
       "<Figure size 432x288 with 1 Axes>"
      ]
     },
     "metadata": {
      "needs_background": "light"
     },
     "output_type": "display_data"
    }
   ],
   "source": [
    "plt.axhline(knownresult(sigma),c='red')\n",
    "plt.plot(Nvals,results)\n",
    "plt.loglog()\n",
    "plt.show()"
   ]
  },
  {
   "cell_type": "markdown",
   "id": "040fa288",
   "metadata": {},
   "source": [
    "It converges to the right thing! Nice. Now what's the error?"
   ]
  },
  {
   "cell_type": "code",
   "execution_count": 10,
   "id": "12349ed8",
   "metadata": {},
   "outputs": [
    {
     "data": {
      "image/png": "[encoded data removed]",
      "text/plain": [
       "<Figure size 432x288 with 1 Axes>"
      ]
     },
     "metadata": {
      "needs_background": "light"
     },
     "output_type": "display_data"
    }
   ],
   "source": [
    "plt.axhline(0,c='red')\n",
    "plt.plot(Nvals, (results - knownresult(sigma))/knownresult(sigma))\n",
    "plt.plot(Nvals, Nvals**-0.5)\n",
    "\n",
    "plt.loglog()\n",
    "plt.show()"
   ]
  },
  {
   "cell_type": "markdown",
   "id": "5a879274",
   "metadata": {},
   "source": [
    "The error goes down as $1/\\sqrt N$ as expected"
   ]
  },
  {
   "cell_type": "code",
   "execution_count": 12,
   "id": "39f43c37",
   "metadata": {},
   "outputs": [
    {
     "data": {
      "application/vnd.jupyter.widget-view+json": {
       "model_id": "c828f53885c74a12a024b8bb4124e882",
       "version_major": 2,
       "version_minor": 0
      },
      "text/plain": [
       "  0%|          | 0/10000 [00:00<?, ?it/s]"
      ]
     },
     "metadata": {},
     "output_type": "display_data"
    }
   ],
   "source": [
    "N=1000\n",
    "realizations = 10000\n",
    "results = np.array([integral(sigma,N) for i in tqdm(range(realizations))])\n"
   ]
  },
  {
   "cell_type": "code",
   "execution_count": 13,
   "id": "6e207b41",
   "metadata": {},
   "outputs": [
    {
     "data": {
      "image/png": "[encoded data removed]",
      "text/plain": [
       "<Figure size 432x288 with 1 Axes>"
      ]
     },
     "metadata": {
      "needs_background": "light"
     },
     "output_type": "display_data"
    }
   ],
   "source": [
    "plt.hist(results,density=True, bins=100);"
   ]
  },
  {
   "cell_type": "markdown",
   "id": "8292a343",
   "metadata": {},
   "source": [
    "Wow. That looks really gaussian. Fit it with the sample mean and standard deviation"
   ]
  },
  {
   "cell_type": "code",
   "execution_count": 14,
   "id": "a56f1e8b",
   "metadata": {},
   "outputs": [],
   "source": [
    "mean = np.average(results)\n",
    "std = np.std(results, ddof=1)"
   ]
  },
  {
   "cell_type": "code",
   "execution_count": 15,
   "id": "aecbdb10",
   "metadata": {},
   "outputs": [
    {
     "data": {
      "image/png": "[encoded data removed]",
      "text/plain": [
       "<Figure size 432x288 with 1 Axes>"
      ]
     },
     "metadata": {
      "needs_background": "light"
     },
     "output_type": "display_data"
    }
   ],
   "source": [
    "plt.hist(results,density=True, bins=100);\n",
    "gauss = scipy.stats.norm(loc=mean,scale=std)\n",
    "x = np.linspace(0,0.2,1000)\n",
    "plt.plot(x,gauss.pdf(x));"
   ]
  },
  {
   "cell_type": "code",
   "execution_count": null,
   "id": "744f9849",
   "metadata": {},
   "outputs": [],
   "source": []
  }
 ],
 "metadata": {
  "kernelspec": {
   "display_name": "Python 3 (ipykernel)",
   "language": "python",
   "name": "python3"
  },
  "language_info": {
   "codemirror_mode": {
    "name": "ipython",
    "version": 3
   },
   "file_extension": ".py",
   "mimetype": "text/x-python",
   "name": "python",
   "nbconvert_exporter": "python",
   "pygments_lexer": "ipython3",
   "version": "3.8.12"
  }
 },
 "nbformat": 4,
 "nbformat_minor": 5
}
