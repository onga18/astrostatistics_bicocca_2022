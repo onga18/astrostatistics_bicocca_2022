{
 "cells": [
  {
   "cell_type": "code",
   "execution_count": 3,
   "id": "bbf8f5d9",
   "metadata": {},
   "outputs": [],
   "source": [
    "import numpy as np\n",
    "import scipy.stats\n",
    "import astropy\n",
    "import pylab as plt"
   ]
  },
  {
   "cell_type": "code",
   "execution_count": 4,
   "id": "efb20e01",
   "metadata": {},
   "outputs": [],
   "source": [
    "\n",
    "from astroML.datasets import fetch_dr7_quasar\n",
    "\n",
    "# Fetch the quasar data\n",
    "quasars = fetch_dr7_quasar()\n",
    "\n",
    "# select the first 10000 points\n",
    "quasars = quasars[:10000]\n",
    "\n",
    "data = quasars['redshift']"
   ]
  },
  {
   "cell_type": "code",
   "execution_count": 5,
   "id": "26b073fd",
   "metadata": {},
   "outputs": [
    {
     "data": {
      "image/png": "[encoded data removed]",
      "text/plain": [
       "<Figure size 432x288 with 1 Axes>"
      ]
     },
     "metadata": {
      "needs_background": "light"
     },
     "output_type": "display_data"
    }
   ],
   "source": [
    "plt.hist(data,bins=50,histtype='step',density=True,label='original data');"
   ]
  },
  {
   "cell_type": "markdown",
   "id": "7695cff2",
   "metadata": {},
   "source": [
    "A numpy histogram object out of the data with `density=True` and `bins=50` is a tuple of bin heights and bin edges."
   ]
  },
  {
   "cell_type": "code",
   "execution_count": 6,
   "id": "eaac71c2",
   "metadata": {},
   "outputs": [
    {
     "data": {
      "text/plain": [
       "(array([0.00750005, 0.03000019, 0.06750042, 0.08437555, 0.14812589,\n",
       "        0.2756268 , 0.28312669, 0.30375182, 0.28875189, 0.33000216,\n",
       "        0.38812754, 0.3318768 , 0.37500245, 0.37687747, 0.34875228,\n",
       "        0.34125223, 0.41062723, 0.49687881, 0.46687753, 0.42000228,\n",
       "        0.49687881, 0.54937798, 0.56812808, 0.57187938, 0.55500301,\n",
       "        0.48937875, 0.53250289, 0.62250338, 0.55875428, 0.57000309,\n",
       "        0.51937898, 0.53250289, 0.4968777 , 0.53625411, 0.39562715,\n",
       "        0.31500241, 0.38062706, 0.34125185, 0.35437692, 0.31875173,\n",
       "        0.29625293, 0.2400013 , 0.21375116, 0.23437627, 0.183751  ,\n",
       "        0.20812706, 0.16125087, 0.14625079, 0.14062576, 0.15375083,\n",
       "        0.14062639, 0.10500057, 0.10500057, 0.09000049, 0.07125039,\n",
       "        0.07687576, 0.06750037, 0.05812532, 0.06375035, 0.05437529,\n",
       "        0.04687546, 0.0375002 , 0.02250012, 0.02437513, 0.02437513,\n",
       "        0.01687509, 0.03187532, 0.02812515, 0.03375018, 0.0187501 ,\n",
       "        0.01500008, 0.00187502, 0.03187517, 0.01125011, 0.01687502,\n",
       "        0.00562506, 0.02437502, 0.01312513, 0.00562501, 0.00937509,\n",
       "        0.        , 0.001875  , 0.00750007, 0.001875  , 0.00187502,\n",
       "        0.00187502, 0.        , 0.00937509, 0.        , 0.00187502,\n",
       "        0.        , 0.00375   , 0.00562506, 0.001875  , 0.        ,\n",
       "        0.        , 0.        , 0.        , 0.        , 0.00187502]),\n",
       " array([0.0802    , 0.133533  , 0.186866  , 0.240199  , 0.29353198,\n",
       "        0.346865  , 0.40019798, 0.453531  , 0.506864  , 0.560197  ,\n",
       "        0.61353   , 0.66686296, 0.720196  , 0.773529  , 0.826862  ,\n",
       "        0.88019496, 0.93352795, 0.986861  , 1.0401939 , 1.093527  ,\n",
       "        1.14686   , 1.2001929 , 1.253526  , 1.306859  , 1.360192  ,\n",
       "        1.413525  , 1.4668579 , 1.520191  , 1.573524  , 1.6268569 ,\n",
       "        1.68019   , 1.7335229 , 1.7868559 , 1.840189  , 1.8935219 ,\n",
       "        1.946855  , 2.0001879 , 2.053521  , 2.106854  , 2.160187  ,\n",
       "        2.21352   , 2.2668529 , 2.320186  , 2.373519  , 2.426852  ,\n",
       "        2.480185  , 2.5335178 , 2.586851  , 2.640184  , 2.693517  ,\n",
       "        2.74685   , 2.8001828 , 2.8535159 , 2.906849  , 2.960182  ,\n",
       "        3.013515  , 3.0668478 , 3.1201808 , 3.173514  , 3.226847  ,\n",
       "        3.28018   , 3.3335128 , 3.3868458 , 3.4401789 , 3.493512  ,\n",
       "        3.546845  , 3.600178  , 3.6535108 , 3.7068439 , 3.760177  ,\n",
       "        3.81351   , 3.866843  , 3.9201758 , 3.9735088 , 4.0268416 ,\n",
       "        4.080175  , 4.1335077 , 4.186841  , 4.240174  , 4.293507  ,\n",
       "        4.34684   , 4.4001727 , 4.453506  , 4.506839  , 4.560172  ,\n",
       "        4.613505  , 4.6668377 , 4.720171  , 4.773504  , 4.826837  ,\n",
       "        4.88017   , 4.9335027 , 4.986836  , 5.040169  , 5.093502  ,\n",
       "        5.146835  , 5.2001677 , 5.253501  , 5.3068337 , 5.360167  ,\n",
       "        5.4135    ], dtype=float32))"
      ]
     },
     "execution_count": 6,
     "metadata": {},
     "output_type": "execute_result"
    }
   ],
   "source": [
    "np.histogram(data, bins=100,density=True)"
   ]
  },
  {
   "cell_type": "markdown",
   "id": "406f252f",
   "metadata": {},
   "source": [
    "### Cloning by rejection sampling"
   ]
  },
  {
   "cell_type": "code",
   "execution_count": 20,
   "id": "3c679780",
   "metadata": {},
   "outputs": [
    {
     "data": {
      "image/png": "[encoded data removed]",
      "text/plain": [
       "<Figure size 432x288 with 1 Axes>"
      ]
     },
     "metadata": {
      "needs_background": "light"
     },
     "output_type": "display_data"
    }
   ],
   "source": [
    "plt.hist(data,bins=50,histtype='step',density=True,label='original data');\n",
    "\n",
    "# make a simple histogram object\n",
    "counts, bins = np.histogram(data, bins=50, density=True)\n",
    "maxh = counts.max() # find the maximum\n",
    "\n",
    "# Make a scipy.stats random variable object from a histogram\n",
    "# This is a great hack!\n",
    "disth = scipy.stats.rv_histogram((counts,bins))\n",
    "\n",
    "\n",
    "# Let's do it manually again\n",
    "N = 100000 # trials\n",
    "q = np.random.uniform(0,5, N) # proposed points\n",
    "u = np.random.uniform(0, maxh, N) # uniform draws\n",
    "\n",
    "mask = u<=disth.pdf(q) # assess whether u <= q(x_i)\n",
    "\n",
    "monte_carlo = q[mask] # reject all points that don't pass, using masking\n",
    "\n",
    "plt.hist(monte_carlo, bins=50, density=True,histtype='step',label='cloned data 1');\n",
    "\n",
    "### But scipy has it already implemented \n",
    "plt.hist(disth.rvs(size=N),bins=50,density=True,histtype='step',label='cloned data 2');\n",
    "\n",
    "plt.legend();"
   ]
  },
  {
   "cell_type": "code",
   "execution_count": 21,
   "id": "8866ea97",
   "metadata": {},
   "outputs": [],
   "source": [
    "### Cloning by inverse transform"
   ]
  },
  {
   "cell_type": "code",
   "execution_count": 22,
   "id": "393989ea",
   "metadata": {},
   "outputs": [
    {
     "data": {
      "image/png": "[encoded data removed]",
      "text/plain": [
       "<Figure size 432x288 with 1 Axes>"
      ]
     },
     "metadata": {
      "needs_background": "light"
     },
     "output_type": "display_data"
    }
   ],
   "source": [
    "plt.hist(data,bins=50,histtype='step',density=True,label='original data');\n",
    "\n",
    "# make some sample data\n",
    "#sample_data = np.random.normal(1.0,0.2,10000)\n",
    "\n",
    "# make a simple histogram object\n",
    "counts, bins = np.histogram(data, bins=50, density=True)\n",
    "bin_mids = (bins[1:] + bins[:-1]) / 2 # mid location of bins\n",
    " \n",
    "simple_cdf = np.cumsum(counts) / np.sum(counts) # very simply cumulative sum\n",
    "\n",
    "# set up an interpolation of the inverse cumulative distribution\n",
    "tck = scipy.interpolate.interp1d(simple_cdf, bin_mids)\n",
    "\n",
    "# sample evenly along the cumulative distribution, and interpolate\n",
    "# little hack to make sure no points are generated outside interpolation range.\n",
    "# not ideal\n",
    "u = np.random.uniform(0.001, 0.999, 1000) \n",
    "x_sample = tck(u)\n",
    "\n",
    "plt.hist(x_sample, bins=50, density=True, histtype='step',label='cloned data');\n",
    "\n",
    "plt.legend();"
   ]
  },
  {
   "cell_type": "markdown",
   "id": "c64497be",
   "metadata": {},
   "source": [
    "Let's try to assume that quasars are distributed uniformly in comoving volume in the Universe. Seems fair...\n",
    "\n",
    "We use the cosmological parameters as measured by the Plack satellite, which is a flat $\\Lambda$ CDM model\n",
    "\n"
   ]
  },
  {
   "cell_type": "code",
   "execution_count": 23,
   "id": "f14ff566",
   "metadata": {},
   "outputs": [
    {
     "data": {
      "text/plain": [
       "FlatLambdaCDM(name=\"Planck15\", H0=67.7 km / (Mpc s), Om0=0.307, Tcmb0=2.725 K, Neff=3.05, m_nu=[0.   0.   0.06] eV, Ob0=0.0486)"
      ]
     },
     "execution_count": 23,
     "metadata": {},
     "output_type": "execute_result"
    }
   ],
   "source": [
    "astropy.cosmology.Planck15"
   ]
  },
  {
   "cell_type": "markdown",
   "id": "383316d3",
   "metadata": {},
   "source": [
    "Let's put things in a class now. Note lazy loading, which is a terrific tecnique!"
   ]
  },
  {
   "cell_type": "code",
   "execution_count": 24,
   "id": "3ca4985c",
   "metadata": {},
   "outputs": [],
   "source": [
    "class uniformredshift(object):\n",
    "    def __init__(self,zmax):\n",
    "        ''' Lazy loading...'''\n",
    "        self._norm = None\n",
    "        self._pdfmax = None\n",
    "        self.zmax=zmax\n",
    "\n",
    "    def _eval(self,z_vals):\n",
    "        '''Unnormalized pdf'''\n",
    "        return ((4.*np.pi*astropy.cosmology.Planck15.differential_comoving_volume(z_vals).value))\n",
    "\n",
    "\n",
    "    def norm(self):\n",
    "        '''Compute normalization'''\n",
    "        if self._norm is None:\n",
    "            self._norm = scipy.integrate.quad( self._eval, 0, self.zmax)[0]\n",
    "        return self._norm\n",
    "\n",
    "\n",
    "    def eval(self,z_vals):\n",
    "        return self._eval(z_vals)/self.norm()\n",
    "\n",
    "        return np.array(zsample)"
   ]
  },
  {
   "cell_type": "code",
   "execution_count": 25,
   "id": "3d4c6b04",
   "metadata": {},
   "outputs": [
    {
     "data": {
      "image/png": "[encoded data removed]",
      "text/plain": [
       "<Figure size 432x288 with 1 Axes>"
      ]
     },
     "metadata": {
      "needs_background": "light"
     },
     "output_type": "display_data"
    }
   ],
   "source": [
    "redshiftpdf = uniformredshift(zmax = 5)\n",
    "\n",
    "z = np.linspace(0,5,100)\n",
    "plt.plot(z,2.4*redshiftpdf.eval(z)) ###   Arbitrary normalization, just matching by eye\n",
    "\n",
    "plt.hist(data,bins=50,histtype='step',density=True,label='original data');\n"
   ]
  },
  {
   "cell_type": "markdown",
   "id": "839f8220",
   "metadata": {},
   "source": [
    "They are not distributed unifiormly in comoving volume. Well, but are all quasars created equally? Yes. Do we see them equally?"
   ]
  }
 ],
 "metadata": {
  "kernelspec": {
   "display_name": "Python 3 (ipykernel)",
   "language": "python",
   "name": "python3"
  },
  "language_info": {
   "codemirror_mode": {
    "name": "ipython",
    "version": 3
   },
   "file_extension": ".py",
   "mimetype": "text/x-python",
   "name": "python",
   "nbconvert_exporter": "python",
   "pygments_lexer": "ipython3",
   "version": "3.8.12"
  }
 },
 "nbformat": 4,
 "nbformat_minor": 5
}
