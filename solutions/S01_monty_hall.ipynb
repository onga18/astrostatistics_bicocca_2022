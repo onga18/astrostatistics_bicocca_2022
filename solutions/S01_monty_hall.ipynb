{
 "cells": [
  {
   "cell_type": "code",
   "execution_count": 2,
   "metadata": {},
   "outputs": [],
   "source": [
    "import numpy as np\n",
    "from tqdm.notebook import tqdm\n",
    "import pylab as plt\n",
    "plt.rcParams['figure.figsize'] = [8, 8]"
   ]
  },
  {
   "cell_type": "code",
   "execution_count": 3,
   "metadata": {},
   "outputs": [],
   "source": [
    "def threedoors(which):\n",
    "\n",
    "    labels = np.arange(3) # Labels of the three doors\n",
    "    doors = np.zeros(3,dtype=int) # Content of three doors\n",
    "    doors[np.random.choice(labels)] = 1 # One of them contains the prize, don't know which one\n",
    "    choice = np.random.choice(labels) # I pick one door\n",
    "    notchosen = np.delete(labels,choice) # These are the remaining doors \n",
    "\n",
    "    while True:\n",
    "        opened = np.random.choice(notchosen) #One door is opened\n",
    "        if doors[opened]==0: # But it's never the winning door\n",
    "            other = int(np.delete(labels,[opened,choice])) # This is the other door left\n",
    "            break\n",
    "    \n",
    "    \n",
    "    if which == 'switch': # Do you switch? If yes, return content of the other door \n",
    "        return doors[other]\n",
    "\n",
    "    elif which == 'keep': # If not, return content of the one you picked initially\n",
    "        return doors[choice]\n",
    " \n",
    "    elif which == 'external': # A third guy picks randomly between the two remaining doors\n",
    "        picked = np.random.choice([choice,other])\n",
    "        return doors[picked]\n",
    "    "
   ]
  },
  {
   "cell_type": "code",
   "execution_count": 4,
   "metadata": {},
   "outputs": [
    {
     "data": {
      "application/vnd.jupyter.widget-view+json": {
       "model_id": "ea876f8d2aa2404596ee249c236a3231",
       "version_major": 2,
       "version_minor": 0
      },
      "text/plain": [
       "  0%|          | 0/3 [00:00<?, ?it/s]"
      ]
     },
     "metadata": {},
     "output_type": "display_data"
    },
    {
     "data": {
      "application/vnd.jupyter.widget-view+json": {
       "model_id": "ea6a7b59278b42e097ea17c9808cb723",
       "version_major": 2,
       "version_minor": 0
      },
      "text/plain": [
       "  0%|          | 0/100000 [00:00<?, ?it/s]"
      ]
     },
     "metadata": {},
     "output_type": "display_data"
    },
    {
     "data": {
      "application/vnd.jupyter.widget-view+json": {
       "model_id": "dca8144a5c714296a85dfcb21051c19f",
       "version_major": 2,
       "version_minor": 0
      },
      "text/plain": [
       "  0%|          | 0/100000 [00:00<?, ?it/s]"
      ]
     },
     "metadata": {},
     "output_type": "display_data"
    },
    {
     "data": {
      "application/vnd.jupyter.widget-view+json": {
       "model_id": "bde6fabc793f4cb9879d24d8d6fb06eb",
       "version_major": 2,
       "version_minor": 0
      },
      "text/plain": [
       "  0%|          | 0/100000 [00:00<?, ?it/s]"
      ]
     },
     "metadata": {},
     "output_type": "display_data"
    }
   ],
   "source": [
    "N  = int(1e5) # Do this many times\n",
    "probs = {}\n",
    "\n",
    "for which in tqdm(['switch','keep','external']):\n",
    "    events = [threedoors(which) for i in tqdm(range(N))]\n",
    "    probs[which] = np.sum(events)/ N\n"
   ]
  },
  {
   "cell_type": "code",
   "execution_count": 5,
   "metadata": {},
   "outputs": [
    {
     "data": {
      "image/png": "[encoded data removed]",
      "text/plain": [
       "<Figure size 576x576 with 1 Axes>"
      ]
     },
     "metadata": {
      "needs_background": "light"
     },
     "output_type": "display_data"
    }
   ],
   "source": [
    "# A simple bar chart\n",
    "plt.bar([0,1,2], [probs[k] for k in probs.keys()], color='green');\n",
    "plt.xticks([0,1,2], probs.keys());\n",
    "\n",
    "for y in [1/3,1/2,2/3]:\n",
    "    plt.axhline(y, ls='dotted',c='black')"
   ]
  },
  {
   "cell_type": "markdown",
   "metadata": {},
   "source": [
    "### Let's break it down:"
   ]
  },
  {
   "cell_type": "markdown",
   "metadata": {},
   "source": [
    "Before a door is opened, the probability of finding a car is clearly 1/number_of_doors=$1/3$.\n",
    "\n",
    "After one door has been opened:\n",
    "\n",
    "* Probability of car behind **Door 1** $= 1/3$\n",
    "* Probability of car behind **Doors 2 or 3** $= 2/3$"
   ]
  },
  {
   "cell_type": "markdown",
   "metadata": {},
   "source": [
    "But if the host opens **Door 3** to show a goat, you now have prior information to update your probability of the car being behind **Door 2**. The probability of the car behind **Door 1** is still $1/3$, but the total probability must sum to unity, and you only have **Door 2** left. Hence,\n",
    "\n",
    "* With prior knowledge of **Door 3** containing a goat, the probability of car behind **Door 2** $=2/3$.\n",
    "\n",
    "\n",
    "So, ***switching doubles your chances***. You should always switch!! But only because you had prior information.  If someone walked in after the \"bad\" door was opened, then their probability of winning is the expected 1/number_of_doors=$1/2$."
   ]
  },
  {
   "cell_type": "markdown",
   "metadata": {},
   "source": [
    "This actually becomes easier to understand as $N$ increases. For $N$ choices, revealing $N-2$ \"answers\" doesn't change the probability of your original door choice. It is still $\\frac{1}{N}$.  But it *does* change the probability of your knowledge of the *other final* remaining choice by $N-1$ and it is $\\frac{N-1}{N}$. Therefore, by switching, you increase your chance of winning by a factor of $(N-1)$. Shocking, but true. \n",
    "\n",
    "* In the 3-door example, switching doubles your chance of winning (from $1/3$ to $2/3$). \n",
    "* In a 100-door example, switching increases your chance of winning by a factor of $99$.\n",
    "\n",
    "This is an example of the use of *conditional* probability, where we have $p(A|B) \\ne p(A)$."
   ]
  },
  {
   "cell_type": "markdown",
   "metadata": {},
   "source": [
    "This clip explains it nicely:"
   ]
  },
  {
   "cell_type": "code",
   "execution_count": 5,
   "metadata": {},
   "outputs": [
    {
     "data": {
      "image/jpeg": "[encoded data removed]",
      "text/html": [
       "\n",
       "        <iframe\n",
       "            width=\"600\"\n",
       "            height=\"400\"\n",
       "            src=\"https://www.youtube.com/embed/ggDQXlinbME\"\n",
       "            frameborder=\"0\"\n",
       "            allowfullscreen\n",
       "            \n",
       "        ></iframe>\n",
       "        "
      ],
      "text/plain": [
       "<IPython.lib.display.YouTubeVideo at 0x11f896310>"
      ]
     },
     "execution_count": 5,
     "metadata": {},
     "output_type": "execute_result"
    }
   ],
   "source": [
    "from IPython.display import YouTubeVideo\n",
    "YouTubeVideo('ggDQXlinbME', width=600, height=400)"
   ]
  },
  {
   "cell_type": "code",
   "execution_count": null,
   "metadata": {},
   "outputs": [],
   "source": []
  }
 ],
 "metadata": {
  "kernelspec": {
   "display_name": "Python 3 (ipykernel)",
   "language": "python",
   "name": "python3"
  },
  "language_info": {
   "codemirror_mode": {
    "name": "ipython",
    "version": 3
   },
   "file_extension": ".py",
   "mimetype": "text/x-python",
   "name": "python",
   "nbconvert_exporter": "python",
   "pygments_lexer": "ipython3",
   "version": "3.8.12"
  }
 },
 "nbformat": 4,
 "nbformat_minor": 4
}
