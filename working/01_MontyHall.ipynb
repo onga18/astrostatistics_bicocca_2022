{
 "cells": [
  {
   "cell_type": "markdown",
   "id": "3e36e778",
   "metadata": {},
   "source": [
    "Player A: switch\n",
    "Player B: tiene\n",
    "player C: arriva dopo e sceglie a caso una delle due\n",
    "\n",
    "\n",
    "porte p_uno, p_due, p_tre\n",
    "p_due è quella che vince\n",
    "p_uno\n",
    "p_due\n"
   ]
  },
  {
   "cell_type": "code",
   "execution_count": 8,
   "id": "c2684cfc",
   "metadata": {},
   "outputs": [],
   "source": [
    "import numpy as np\n",
    "\n",
    "\n",
    "p_uno=0\n",
    "p_due=1\n",
    "p_tre=2\n",
    "p_open\n",
    "A_win\n",
    "NUM"
   ]
  },
  {
   "cell_type": "markdown",
   "id": "51197dd2",
   "metadata": {},
   "source": [
    "Scelta a caso dei giocatori"
   ]
  },
  {
   "cell_type": "code",
   "execution_count": 9,
   "id": "a80bcd0b",
   "metadata": {},
   "outputs": [
    {
     "name": "stdout",
     "output_type": "stream",
     "text": [
      "1\n"
     ]
    }
   ],
   "source": [
    "for i in range(100):\n",
    "    A=np.random.choice([0,1,2])\n",
    "    if A==p_due:\n",
    "        p_open=np.random.choice([0,2])\n",
    "        if p_open==0:\n",
    "            A=2\n",
    "        else:\n",
    "            A=0\n",
    "        \n",
    "    \n",
    "    else:\n",
    "        if A==p_uno:\n",
    "            p_open=2\n",
    "            A=1\n",
    "        }\n",
    "        else{\n",
    "            p_open=0\n",
    "            A=1\n",
    "        }\n",
    "\n",
    "    }\n",
    "\n",
    "    if(A==p_due){\n",
    "        A_win+1\n",
    "    }\n",
    "\n",
    "\n",
    "print(A/NUM)"
   ]
  },
  {
   "cell_type": "code",
   "execution_count": null,
   "id": "3c2c806d",
   "metadata": {},
   "outputs": [],
   "source": []
  }
 ],
 "metadata": {
  "kernelspec": {
   "display_name": "Python 3 (ipykernel)",
   "language": "python",
   "name": "python3"
  },
  "language_info": {
   "codemirror_mode": {
    "name": "ipython",
    "version": 3
   },
   "file_extension": ".py",
   "mimetype": "text/x-python",
   "name": "python",
   "nbconvert_exporter": "python",
   "pygments_lexer": "ipython3",
   "version": "3.8.5"
  }
 },
 "nbformat": 4,
 "nbformat_minor": 5
}
