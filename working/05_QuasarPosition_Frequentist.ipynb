{
 "cells": [
  {
   "cell_type": "code",
   "execution_count": 16,
   "id": "4b421667",
   "metadata": {},
   "outputs": [
    {
     "name": "stdout",
     "output_type": "stream",
     "text": [
      "valore vero di mu:  1\n",
      "valore di mu massimo trovato:  0.9954954954954955\n"
     ]
    },
    {
     "data": {
      "text/plain": [
       "<matplotlib.lines.Line2D at 0x2b32aee1d60>"
      ]
     },
     "execution_count": 16,
     "metadata": {},
     "output_type": "execute_result"
    },
    {
     "data": {
      "image/png": "[encoded data removed]",
      "text/plain": [
       "<Figure size 432x288 with 1 Axes>"
      ]
     },
     "metadata": {
      "needs_background": "light"
     },
     "output_type": "display_data"
    }
   ],
   "source": [
    "import numpy as np\n",
    "import scipy.stats\n",
    "from scipy.stats import norm\n",
    "from matplotlib import pyplot as plt\n",
    "\n",
    "N=50\n",
    "mu_real=1\n",
    "sigma=0.2\n",
    "\n",
    "#genero i dati casuali\n",
    "norm_data=norm.rvs(mu_real,sigma,N)\n",
    "\n",
    "# Scan across 1000 possible mu values from 0.5 to 5.\n",
    "mu_proposed = np.linspace(0.5,3,1000)\n",
    "\n",
    "# compute the lnL for each possible mu.\n",
    "lnL_scan = []\n",
    "for mu in mu_proposed:\n",
    "    lnL_temp = norm.logpdf(norm_data, mu, scale=1) # gives you the log prob. density; useful!\n",
    "    lnL_temp = np.sum(lnL_temp) # sum over the log pdf of all data points\n",
    "    lnL_scan.append( lnL_temp )\n",
    "    \n",
    "# convert to numpy array\n",
    "lnL_scan = np.array(lnL_scan)\n",
    "\n",
    "\n",
    "# mu_proposed that maximizes the lnL.\n",
    "plt.plot(mu_proposed,lnL_scan)\n",
    "\n",
    "findmax = mu_proposed[np.argmax(lnL_scan)]\n",
    "print('valore vero di mu: ', mu_real)\n",
    "print('valore di mu massimo trovato: ', findmax)\n",
    "plt.axvline(findmax,c='red')\n",
    "\n",
    "plt.axvline(mu_real,c='black',ls='dotted')"
   ]
  },
  {
   "cell_type": "code",
   "execution_count": 19,
   "id": "850caade",
   "metadata": {},
   "outputs": [
    {
     "name": "stdout",
     "output_type": "stream",
     "text": [
      "valore MLE:  0.9947186866036444\n"
     ]
    }
   ],
   "source": [
    "#confronto con la formula analitica MLE\n",
    "MLE=1/N* np.sum(norm_data)\n",
    "print('valore MLE: ', MLE)"
   ]
  },
  {
   "cell_type": "code",
   "execution_count": 22,
   "id": "bd8413b2",
   "metadata": {},
   "outputs": [
    {
     "ename": "ValueError",
     "evalue": "operands could not be broadcast together with shapes (998,) (49,) ",
     "output_type": "error",
     "traceback": [
      "\u001b[1;31m---------------------------------------------------------------------------\u001b[0m",
      "\u001b[1;31mValueError\u001b[0m                                Traceback (most recent call last)",
      "\u001b[1;32m~\\AppData\\Local\\Temp/ipykernel_4332/321065563.py\u001b[0m in \u001b[0;36m<module>\u001b[1;34m\u001b[0m\n\u001b[0;32m      2\u001b[0m \u001b[1;31m#vedi documentazione per np.diff mi da la differenza tra 2 punti, per ogni punti nell'array\u001b[0m\u001b[1;33m\u001b[0m\u001b[1;33m\u001b[0m\u001b[1;33m\u001b[0m\u001b[0m\n\u001b[0;32m      3\u001b[0m \u001b[1;31m#per fare la derivata devo dividere per la differenza tra i punti sull'asse x\u001b[0m\u001b[1;33m\u001b[0m\u001b[1;33m\u001b[0m\u001b[1;33m\u001b[0m\u001b[0m\n\u001b[1;32m----> 4\u001b[1;33m \u001b[0mfisherError\u001b[0m\u001b[1;33m=\u001b[0m \u001b[0mnp\u001b[0m\u001b[1;33m.\u001b[0m\u001b[0msqrt\u001b[0m\u001b[1;33m(\u001b[0m\u001b[1;33m-\u001b[0m \u001b[0mnp\u001b[0m\u001b[1;33m.\u001b[0m\u001b[0mdiff\u001b[0m\u001b[1;33m(\u001b[0m\u001b[0mlnL_scan\u001b[0m\u001b[1;33m,\u001b[0m \u001b[1;36m2\u001b[0m\u001b[1;33m)\u001b[0m \u001b[1;33m/\u001b[0m \u001b[1;33m(\u001b[0m\u001b[0mnp\u001b[0m\u001b[1;33m.\u001b[0m\u001b[0mdiff\u001b[0m\u001b[1;33m(\u001b[0m\u001b[0mnorm_data\u001b[0m\u001b[1;33m)\u001b[0m\u001b[1;33m**\u001b[0m\u001b[1;36m2\u001b[0m\u001b[1;33m)\u001b[0m\u001b[1;33m)\u001b[0m\u001b[1;33m\u001b[0m\u001b[1;33m\u001b[0m\u001b[0m\n\u001b[0m",
      "\u001b[1;31mValueError\u001b[0m: operands could not be broadcast together with shapes (998,) (49,) "
     ]
    }
   ],
   "source": [
    "#stima errore con matrice di Fisher\n",
    "#vedi documentazione per np.diff mi da la differenza tra 2 punti, per ogni punti nell'array\n",
    "#per fare la derivata devo dividere per la differenza tra i punti sull'asse x\n",
    "fisherError= np.sqrt(- np.diff(lnL_scan, 2) / (np.diff(norm_data)**2))"
   ]
  }
 ],
 "metadata": {
  "kernelspec": {
   "display_name": "Python 3 (ipykernel)",
   "language": "python",
   "name": "python3"
  },
  "language_info": {
   "codemirror_mode": {
    "name": "ipython",
    "version": 3
   },
   "file_extension": ".py",
   "mimetype": "text/x-python",
   "name": "python",
   "nbconvert_exporter": "python",
   "pygments_lexer": "ipython3",
   "version": "3.8.5"
  }
 },
 "nbformat": 4,
 "nbformat_minor": 5
}
