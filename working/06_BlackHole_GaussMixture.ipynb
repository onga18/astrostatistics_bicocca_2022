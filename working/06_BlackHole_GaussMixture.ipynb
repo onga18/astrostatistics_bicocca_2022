{
 "cells": [
  {
   "cell_type": "code",
   "execution_count": 40,
   "id": "395d795e",
   "metadata": {},
   "outputs": [
    {
     "data": {
      "image/png": "[encoded data removed]",
      "text/plain": [
       "<Figure size 432x288 with 1 Axes>"
      ]
     },
     "metadata": {
      "needs_background": "light"
     },
     "output_type": "display_data"
    }
   ],
   "source": [
    "import numpy as np\n",
    "from matplotlib import pyplot as plt\n",
    "from sklearn.mixture import GaussianMixture\n",
    "\n",
    "#number of gaussian\n",
    "N=10\n",
    "\n",
    "\n",
    "data = np.load('formationchannels.npy')\n",
    "plt.hist(data,200)\n",
    "\n",
    "\n",
    "plt.show()"
   ]
  },
  {
   "cell_type": "code",
   "execution_count": 42,
   "id": "afbde7aa",
   "metadata": {},
   "outputs": [],
   "source": [
    "for i in range(0,N):\n",
    "    gm = GaussianMixture(n_components=1, random_state=0).fit(data)\n",
    "    gm.AIC(data)"
   ]
  }
 ],
 "metadata": {
  "kernelspec": {
   "display_name": "Python 3 (ipykernel)",
   "language": "python",
   "name": "python3"
  },
  "language_info": {
   "codemirror_mode": {
    "name": "ipython",
    "version": 3
   },
   "file_extension": ".py",
   "mimetype": "text/x-python",
   "name": "python",
   "nbconvert_exporter": "python",
   "pygments_lexer": "ipython3",
   "version": "3.8.5"
  }
 },
 "nbformat": 4,
 "nbformat_minor": 5
}
