{
 "cells": [
  {
   "cell_type": "code",
   "execution_count": 7,
   "id": "8d456aef",
   "metadata": {},
   "outputs": [
    {
     "name": "stdout",
     "output_type": "stream",
     "text": [
      "-0.2705763302849882\n",
      "False\n"
     ]
    }
   ],
   "source": [
    "import numpy as np\n",
    "import scipy.stats\n",
    "import pylab as plt\n",
    "\n",
    "A=2\n",
    "xi = np.random.normal(0,A,1000)\n",
    "\n",
    "def fun(x):\n",
    "    return x**3\n",
    "\n",
    "integral = A*np.sqrt(np.pi/2) * np.mean(fun(xi))\n",
    "\n",
    "print(integral)\n",
    "\n",
    "print(np.isclose(integral, 2*A*A))\n"
   ]
  },
  {
   "cell_type": "code",
   "execution_count": null,
   "id": "6000d5f2",
   "metadata": {},
   "outputs": [],
   "source": []
  }
 ],
 "metadata": {
  "kernelspec": {
   "display_name": "Python 3 (ipykernel)",
   "language": "python",
   "name": "python3"
  },
  "language_info": {
   "codemirror_mode": {
    "name": "ipython",
    "version": 3
   },
   "file_extension": ".py",
   "mimetype": "text/x-python",
   "name": "python",
   "nbconvert_exporter": "python",
   "pygments_lexer": "ipython3",
   "version": "3.8.5"
  }
 },
 "nbformat": 4,
 "nbformat_minor": 5
}
